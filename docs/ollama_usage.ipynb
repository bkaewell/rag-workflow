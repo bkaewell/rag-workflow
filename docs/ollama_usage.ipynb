{
 "cells": [
  {
   "cell_type": "markdown",
   "id": "edb635d6-6e75-423b-bbce-c1a616470912",
   "metadata": {},
   "source": [
    "# Chat Query with Llama2"
   ]
  },
  {
   "cell_type": "code",
   "execution_count": 8,
   "id": "00e65ac3-83d9-406f-a9b0-afe7d3c36a82",
   "metadata": {},
   "outputs": [
    {
     "name": "stdout",
     "output_type": "stream",
     "text": [
      "\n",
      "The sky appears blue because of a phenomenon called Rayleigh scattering. This is the scattering of light by small particles in the atmosphere, such as nitrogen and oxygen molecules, as well as other gases and aerosols. When sunlight enters Earth's atmosphere, it encounters these particles and is scattered in all directions.\n",
      "\n",
      "The shorter wavelengths of light, such as blue and violet, are scattered more than the longer wavelengths, such as red and orange. This is because the smaller wavelengths of light have a shorter wave length, which means they have a greater frequency and are more easily scattered by the small particles in the atmosphere. As a result, the blue and violet light is dispersed throughout the atmosphere, giving the sky its blue appearance.\n",
      "\n",
      "The reason why the sky appears blue under most conditions is because the Earth's atmosphere is relatively thin and the scattering of light by the small particles is not enough to completely absorb the sunlight. If the atmosphere were thicker or there were more particles in it, the sky would appear darker or even black due to the absorption of light.\n",
      "\n",
      "It's worth noting that the color of the sky can vary depending on the time of day and atmospheric conditions. For example, during sunrise and sunset, the sky can take on hues of red, orange, and pink due to the scattering of light by larger particles in the atmosphere. Additionally, pollution and dust in the atmosphere can also affect the color of the sky, making it appear more hazy or gray.\n"
     ]
    }
   ],
   "source": [
    "\n",
    "\n",
    "import ollama\n",
    "\n",
    "# Send a chat request to the 'llama2' model with a user message\n",
    "response = ollama.chat(model='llama2', \n",
    "                       messages=[\n",
    "  {\n",
    "    'role': 'user',\n",
    "    'content': 'Why is the sky blue?',  # Message content that the user sends to the model\n",
    "  },\n",
    "])\n",
    "\n",
    "# Print the response from the model, displaying the answer to the user's question\n",
    "print(response['message']['content'])\n",
    "\n"
   ]
  },
  {
   "cell_type": "markdown",
   "id": "f51512d3-efa2-47e2-9b84-30699a450ef3",
   "metadata": {},
   "source": [
    "# Generate Vector Embeddings\n",
    "\n",
    "Ollama supports embedding models, making it possible to build RAG applications that combine text prompts with existing documents or other data.\n",
    "\n",
    "**What are embedding models?** \n",
    "Embedding models are models that are trained specifically to generate vector embeddings: long arrays of numbers that represent semantic meaning for a given sequence of text:\n",
    "\n",
    "<figure>\n",
    "  <img src=\"https://ollama.com/public/blog/what-are-embeddings.svg\" alt=\"vector_embeddings_ollama\" width=\"500\" />\n",
    "  <figcaption></figcaption>\n",
    "</figure>"
   ]
  },
  {
   "cell_type": "code",
   "execution_count": 5,
   "id": "6a06b872-34a8-4e2c-8ec9-16505fbf9916",
   "metadata": {},
   "outputs": [
    {
     "name": "stdout",
     "output_type": "stream",
     "text": [
      "'Embedding length: 384'\n",
      "{'embedding': [0.0479680672287941,\n",
      "               0.11637094616889954,\n",
      "               -0.24570561945438385,\n",
      "               -0.04406300559639931,\n",
      "               -0.24932530522346497,\n",
      "               0.12218563258647919,\n",
      "               -0.48447176814079285,\n",
      "               -0.1940533071756363,\n",
      "               0.27372273802757263,\n",
      "               0.1956769824028015]}\n"
     ]
    }
   ],
   "source": [
    "\n",
    "\n",
    "import ollama\n",
    "from pprint import pprint\n",
    "\n",
    "# Generate vector embeddings for the given text prompt\n",
    "resp = ollama.embeddings(model=\"all-minilm\", \n",
    "                         prompt=\"Llamas are members of the camelid family meaning they're pretty closely related to vicuñas and camels\");\n",
    "\n",
    "# The resulting vector embedding arrays can then be stored in a database, \n",
    "# which will compare them as a way to search for data that is similar in meaning\n",
    "\n",
    "# Limit the print output to the first 10 values\n",
    "pprint(f\"Embedding length: {len(resp['embedding'])}\")\n",
    "pprint({'embedding': resp['embedding'][:10]})\n",
    "\n"
   ]
  },
  {
   "cell_type": "code",
   "execution_count": null,
   "id": "7dd48013-0c7a-4673-92d8-bc3157f2f47b",
   "metadata": {},
   "outputs": [],
   "source": []
  }
 ],
 "metadata": {
  "kernelspec": {
   "display_name": "Python 3 (ipykernel)",
   "language": "python",
   "name": "python3"
  },
  "language_info": {
   "codemirror_mode": {
    "name": "ipython",
    "version": 3
   },
   "file_extension": ".py",
   "mimetype": "text/x-python",
   "name": "python",
   "nbconvert_exporter": "python",
   "pygments_lexer": "ipython3",
   "version": "3.10.13"
  }
 },
 "nbformat": 4,
 "nbformat_minor": 5
}

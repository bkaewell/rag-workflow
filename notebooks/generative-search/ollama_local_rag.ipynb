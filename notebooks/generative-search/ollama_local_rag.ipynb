{
 "cells": [
  {
   "cell_type": "markdown",
   "id": "14f66236-8b61-48df-93ef-ea194ba517d0",
   "metadata": {},
   "source": [
    "Local RAG with Ollama/Weaviate\n",
    "\n",
    "\n",
    "Setup\n",
    "\n"
   ]
  },
  {
   "cell_type": "code",
   "execution_count": 2,
   "id": "4abf5cc8-f4b3-499b-98cf-7907b3420154",
   "metadata": {},
   "outputs": [],
   "source": [
    "# pip install ollama\n",
    "# pip install -U weaviate-client"
   ]
  },
  {
   "cell_type": "code",
   "execution_count": null,
   "id": "7e0933d4-4186-423e-97dd-92141fe976f6",
   "metadata": {},
   "outputs": [],
   "source": []
  }
 ],
 "metadata": {
  "kernelspec": {
   "display_name": "Python 3 (ipykernel)",
   "language": "python",
   "name": "python3"
  },
  "language_info": {
   "codemirror_mode": {
    "name": "ipython",
    "version": 3
   },
   "file_extension": ".py",
   "mimetype": "text/x-python",
   "name": "python",
   "nbconvert_exporter": "python",
   "pygments_lexer": "ipython3",
   "version": "3.10.13"
  }
 },
 "nbformat": 4,
 "nbformat_minor": 5
}

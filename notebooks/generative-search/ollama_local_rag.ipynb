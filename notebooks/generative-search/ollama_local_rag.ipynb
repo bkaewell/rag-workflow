{
 "cells": [
  {
   "cell_type": "markdown",
   "id": "14f66236-8b61-48df-93ef-ea194ba517d0",
   "metadata": {},
   "source": [
    "\n",
    "# Local RAG with Ollama/Weaviate\n",
    "\n",
    "Ollama\n",
    "- Open-source framework (LLM backend server) designed to faciliate the deployment of LLMs on local environments\n",
    "  - User-friendly Command Line Interface (CLI) / chat prompt\n",
    "  - Cost effective (training and running models are expensive)\n",
    "  - Valuable tool for LLM experimentation and customization based on user needs\n",
    "  - Supports several models\n",
    "\n",
    "## Setup\n"
   ]
  },
  {
   "cell_type": "code",
   "execution_count": 7,
   "id": "4abf5cc8-f4b3-499b-98cf-7907b3420154",
   "metadata": {},
   "outputs": [],
   "source": [
    "# pip install ollama\n",
    "# pip install -U weaviate-client"
   ]
  },
  {
   "cell_type": "code",
   "execution_count": null,
   "id": "e0109fd3-cb42-4ea1-bb34-0379fd686945",
   "metadata": {},
   "outputs": [],
   "source": []
  },
  {
   "cell_type": "code",
   "execution_count": null,
   "id": "90599b7c-7979-48a4-8416-dbc66f39b591",
   "metadata": {},
   "outputs": [],
   "source": []
  },
  {
   "cell_type": "code",
   "execution_count": null,
   "id": "290b8a89-6d7e-4bb4-8bef-d6a588e988e5",
   "metadata": {},
   "outputs": [],
   "source": []
  }
 ],
 "metadata": {
  "kernelspec": {
   "display_name": "Python 3 (ipykernel)",
   "language": "python",
   "name": "python3"
  },
  "language_info": {
   "codemirror_mode": {
    "name": "ipython",
    "version": 3
   },
   "file_extension": ".py",
   "mimetype": "text/x-python",
   "name": "python",
   "nbconvert_exporter": "python",
   "pygments_lexer": "ipython3",
   "version": "3.10.13"
  }
 },
 "nbformat": 4,
 "nbformat_minor": 5
}

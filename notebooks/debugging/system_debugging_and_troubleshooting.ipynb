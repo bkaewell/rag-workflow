{
 "cells": [
  {
   "cell_type": "markdown",
   "id": "db0ed22a-46c0-44e5-8f65-61db21919f10",
   "metadata": {},
   "source": [
    "# Verify Open Network Ports in LISTEN mode\n",
    "\n",
    "**The grep LISTEN filter displays only those network ports or sockets that are actively listening for incoming connections**\n",
    "\n",
    "> ``` \n",
    "> sudo lsof -i -P -n | grep LISTEN \n",
    "> \n",
    "> ollama    27370   IPv4 0xdfbc846e3834546d      0t0    TCP 127.0.0.1:11434 (LISTEN) \n",
    ">\n",
    "> weaviate- 35147   IPv6 0x53a13eedd360c342      0t0    TCP *:60186 (LISTEN) \n",
    "> weaviate- 35147   IPv6 0x91f60d5cf4124a61      0t0    TCP *:6060 (LISTEN) \n",
    "> weaviate- 35147   IPv4 0x2acb043cb27d74a0      0t0    TCP 192.168.0.249:60188 (LISTEN) \n",
    "> weaviate- 35147   IPv6 0x41d21a8cc4514707      0t0    TCP *:60187 (LISTEN) \n",
    "> weaviate- 35147   IPv4 0xf61841243b061880      0t0    TCP 192.168.0.249:60187 (LISTEN) \n",
    "> weaviate- 35147   IPv6 0x515655760ad88e38      0t0    TCP *:50050 (LISTEN) \n",
    "> weaviate- 35147   IPv4 0x379147eef7c0a3e5      0t0    TCP 127.0.0.1:8079 (LISTEN)\n",
    "> ```\n"
   ]
  },
  {
   "cell_type": "code",
   "execution_count": null,
   "id": "d0fb5357-d98f-4c55-a542-0db6153a7f22",
   "metadata": {},
   "outputs": [],
   "source": []
  }
 ],
 "metadata": {
  "kernelspec": {
   "display_name": "Python 3 (ipykernel)",
   "language": "python",
   "name": "python3"
  },
  "language_info": {
   "codemirror_mode": {
    "name": "ipython",
    "version": 3
   },
   "file_extension": ".py",
   "mimetype": "text/x-python",
   "name": "python",
   "nbconvert_exporter": "python",
   "pygments_lexer": "ipython3",
   "version": "3.10.13"
  }
 },
 "nbformat": 4,
 "nbformat_minor": 5
}
